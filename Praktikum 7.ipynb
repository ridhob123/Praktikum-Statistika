from google.colab import files
import pandas as pd
#memanggil dan menampilkan dataset
uploaded =  files.upload()
data_ridho = pd.read_csv('titanic.csv')
print(data_ridho)

#mengambil data pada kolom tertentu
data1 = data_ridho.loc[:,['Age','Pclass','Survived']]
print(data1)

#memvisualisasikan data titanic
data2 = data_ridho[['Age', 'Pclass', 'Survived']]
data2.plot(title='Persebaran Data', x='Age', y='Pclass', kind='scatter', c='Survived', colormap='Paired')

#memanipulasi data jumlah penumpang berdasarkan group Pclass
data3 = data_ridho[['Name', 'Sex', 'Age', 'Pclass', 'Fare']]
penumpang=data3.groupby('Pclass')['Name'].nunique()
print('Jumlah Penumpang:\n', penumpang)

#memfilter data penumpang yang selamat berdasarkan pclass
data4 = data_ridho[['Name', 'Sex', 'Age', 'Pclass', 'Fare']]
notsurvivedpassanger=data4['Pclass'].loc[data_ridho['Survived']==0]
print('Penumpang yang tidak survived:\n', notsurvivedpassanger.value_counts())
survivedpassanger=data4['Pclass'].loc[data_ridho['Survived']==1]
print('\nPenumpang yang survived:\n', survivedpassanger.value_counts())

#memanipulasi data jumlah penumpang berdasarkan group Pclass
data3 = data_ridho[['Name', 'Sex', 'Age', 'Pclass', 'Fare']]
penumpang=data3.groupby('Sex')['Name'].nunique()
print('Jumlah Penumpang:\n', penumpang)

#memfilter data penumpang yang selamat berdasarkan pclass
data4 = data_ridho[['Name', 'Sex', 'Age', 'Pclass', 'Fare']]
notsurvivedpassanger=data4['Sex'].loc[data_ridho['Survived']==0]
print('Penumpang yang tidak survived:\n', notsurvivedpassanger.value_counts())
survivedpassanger=data4['Sex'].loc[data_ridho['Survived']==1]
print('\nPenumpang yang survived:\n', survivedpassanger.value_counts())
